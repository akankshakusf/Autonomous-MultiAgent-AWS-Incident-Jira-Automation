{
 "cells": [
  {
   "cell_type": "markdown",
   "metadata": {},
   "source": [
    "# Autonomous Incident Response System for AWS\n",
    "---\n",
    "\n",
    "In this example, we will build an Agentic system to respond to incidents in your AWS accounts. This is a multi-agent system that composes 4 main components: \n",
    "\n",
    "1. **Monitoring**: This composes of a tool that enables the agent to get CloudWatch logs from a user account based on their service of interest.\n",
    "\n",
    "1. **Diagnosis**: This includes diagnosis events that are seen through the monitoring agent. The diagnosis agent will fetch the information from the monitoring agent, use a web search tool to look for remediations, create a report and then use that report in the next resolution agent.\n",
    "\n",
    "1. **Resolution**: This portion of the solution will be triggered by a diagnosis done from the step before. Once the diagnoses is done with the clear report, then the content of the report is used in the description of the JIRA ticket that the agent creates.\n",
    "\n",
    "This solution will also contain aspects for observability and tracing but without further ado, let's get right into it."
   ]
  },
  {
   "cell_type": "markdown",
   "metadata": {},
   "source": []
  }
 ],
 "metadata": {
  "language_info": {
   "name": "python"
  }
 },
 "nbformat": 4,
 "nbformat_minor": 2
}
